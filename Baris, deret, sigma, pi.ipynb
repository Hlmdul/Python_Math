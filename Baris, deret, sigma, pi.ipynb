{
 "cells": [
  {
   "cell_type": "markdown",
   "id": "a0979f67",
   "metadata": {},
   "source": [
    "#### 1. Diketahui barisan aritmatika yaitu bilangan asli kelipatan 2 kurang dari 100, tentukan suku ke-50 pada barisan tersebut"
   ]
  },
  {
   "cell_type": "code",
   "execution_count": 15,
   "id": "d9cca599",
   "metadata": {},
   "outputs": [],
   "source": [
    "def suku_ke(a,b,n):\n",
    "    print(a+(n-1)*b)"
   ]
  },
  {
   "cell_type": "code",
   "execution_count": 14,
   "id": "7508decd",
   "metadata": {},
   "outputs": [
    {
     "name": "stdout",
     "output_type": "stream",
     "text": [
      "100\n"
     ]
    }
   ],
   "source": [
    "suku_ke(2,2,50)"
   ]
  },
  {
   "cell_type": "markdown",
   "id": "e7cb9e78",
   "metadata": {},
   "source": [
    "#### 2. Jumlah kelereng di box pada tahun 2018 adalah 3 kelereng, setiap tahun jumlah kelereng tersebut bertambah 4 kali lipat dari total kelereng di tahun sebelumnya, berapa banyak total kelereng di tahun 2023"
   ]
  },
  {
   "cell_type": "code",
   "execution_count": 20,
   "id": "4eba927f",
   "metadata": {},
   "outputs": [],
   "source": [
    "def deret_geometri(a,r,n):\n",
    "    print((a*((r**n)-1)/(r-1)))"
   ]
  },
  {
   "cell_type": "code",
   "execution_count": 21,
   "id": "a8f76d87",
   "metadata": {},
   "outputs": [
    {
     "name": "stdout",
     "output_type": "stream",
     "text": [
      "4095.0\n"
     ]
    }
   ],
   "source": [
    "deret_geometri(3,4,6)"
   ]
  },
  {
   "cell_type": "markdown",
   "id": "4aea2b5b",
   "metadata": {},
   "source": [
    "#### 3. Buatlah notasi sigma dengan ketentuan sebagai berikut:\n",
    "- n=10\n",
    "- i=5\n",
    "-f(i)=1**4+(10x2)"
   ]
  },
  {
   "cell_type": "code",
   "execution_count": 29,
   "id": "9f10f4b2",
   "metadata": {},
   "outputs": [
    {
     "name": "stdout",
     "output_type": "stream",
     "text": [
      "25099\n"
     ]
    }
   ],
   "source": [
    "n = 10\n",
    "i = 5\n",
    "hasil = 0\n",
    "\n",
    "for i in range(5,n+1):\n",
    "    hasil = hasil + ((i**4)+20)\n",
    "print(hasil)"
   ]
  },
  {
   "cell_type": "markdown",
   "id": "f2f5a6cc",
   "metadata": {},
   "source": []
  },
  {
   "cell_type": "code",
   "execution_count": null,
   "id": "2b7b35a3",
   "metadata": {},
   "outputs": [],
   "source": []
  }
 ],
 "metadata": {
  "kernelspec": {
   "display_name": "Python 3 (ipykernel)",
   "language": "python",
   "name": "python3"
  },
  "language_info": {
   "codemirror_mode": {
    "name": "ipython",
    "version": 3
   },
   "file_extension": ".py",
   "mimetype": "text/x-python",
   "name": "python",
   "nbconvert_exporter": "python",
   "pygments_lexer": "ipython3",
   "version": "3.11.4"
  }
 },
 "nbformat": 4,
 "nbformat_minor": 5
}
